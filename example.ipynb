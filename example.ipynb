{
 "cells": [
  {
   "cell_type": "markdown",
   "metadata": {},
   "source": [
    "When you create a .ipynb file the first time, you get an option to `Select Kernel` on the top right. \n",
    "Use that to select the one configured in your environment. It's probably the one with the 'star' beside it, \n",
    "and will be the same path as the virtual environment (but may say python3.)\n",
    "\n",
    "One thing that may happen - each new notebook file you create also needs to be associated with such an environment.\n"
   ]
  },
  {
   "cell_type": "code",
   "execution_count": 1,
   "metadata": {},
   "outputs": [
    {
     "name": "stdout",
     "output_type": "stream",
     "text": [
      "os.getcwd()='/workspaces/vscode-devcontainer-example'\n",
      "sys.executable='/opt/test_python_dev/bin/python3'\n",
      "sys.version='3.12.5 (main, Aug 13 2024, 02:19:05) [GCC 12.2.0]'\n"
     ]
    }
   ],
   "source": [
    "import sys, os\n",
    "\n",
    "print(f\"{os.getcwd()=}\")\n",
    "print(f\"{sys.executable=}\")\n",
    "print(f\"{sys.version=}\")\n"
   ]
  },
  {
   "cell_type": "code",
   "execution_count": 6,
   "metadata": {},
   "outputs": [
    {
     "name": "stdout",
     "output_type": "stream",
     "text": [
      "pandas v2.2.2\n",
      "numpy v2.1.0\n",
      "matplotlib v3.9.2\n"
     ]
    }
   ],
   "source": [
    "import numpy as np          # type: ignore\n",
    "import pandas as pd         # type: ignore\n",
    "import matplotlib as mpl    # type: ignore\n",
    "\n",
    "print(f\"pandas v{pd.__version__}\")\n",
    "print(f\"numpy v{np.__version__}\")\n",
    "print(f\"matplotlib v{mpl.__version__}\")"
   ]
  },
  {
   "cell_type": "code",
   "execution_count": 2,
   "metadata": {},
   "outputs": [
    {
     "name": "stdout",
     "output_type": "stream",
     "text": [
      ".devcontainer\n",
      "example.ipynb\n"
     ]
    }
   ],
   "source": [
    "WORK_DIR = \".\"\n",
    "\n",
    "for f in os.listdir(WORK_DIR):\n",
    "    print(f)"
   ]
  },
  {
   "cell_type": "code",
   "execution_count": null,
   "metadata": {},
   "outputs": [],
   "source": []
  }
 ],
 "metadata": {
  "kernelspec": {
   "display_name": "test_python_dev",
   "language": "python",
   "name": "python3"
  },
  "language_info": {
   "codemirror_mode": {
    "name": "ipython",
    "version": 3
   },
   "file_extension": ".py",
   "mimetype": "text/x-python",
   "name": "python",
   "nbconvert_exporter": "python",
   "pygments_lexer": "ipython3",
   "version": "3.12.5"
  }
 },
 "nbformat": 4,
 "nbformat_minor": 2
}
